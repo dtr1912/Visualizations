{
 "cells": [
  {
   "cell_type": "code",
   "execution_count": 1,
   "id": "dfe5bbb9",
   "metadata": {},
   "outputs": [],
   "source": [
    "import pandas as pd\n",
    "import numpy as np\n",
    "from sqlalchemy import create_engine\n",
    "\n",
    "# Create an SQLAlchemy Engine\n",
    "server = 'LAPTOP-5J6JKUOU'\n",
    "database = 'ContosoRetailDW'\n",
    "# Connection string for SQL Server using Windows Authentication\n",
    "engine = create_engine(f'mssql+pyodbc://{server}/{database}?driver=ODBC+Driver+17+for+SQL+Server&auth=NTLM')\n"
   ]
  },
  {
   "cell_type": "markdown",
   "id": "11d6e403",
   "metadata": {},
   "source": [
    "# <span style=\"color: red;\"> DimDate </span>"
   ]
  },
  {
   "cell_type": "code",
   "execution_count": 2,
   "id": "b6614ff2",
   "metadata": {},
   "outputs": [],
   "source": [
    "# Select and cleaning `dimDate`\n",
    "dimDate = \"SELECT * FROM DimDate\"\n",
    "dim_date = pd.read_sql(dimDate, con=engine)\n",
    "\n",
    "pd.set_option('display.max_rows', None)  # None means unlimited rows\n",
    "pd.set_option('display.max_columns', None)  # None means unlimited columns"
   ]
  },
  {
   "cell_type": "code",
   "execution_count": 3,
   "id": "04c6e5ee",
   "metadata": {},
   "outputs": [
    {
     "data": {
      "text/html": [
       "<div>\n",
       "<style scoped>\n",
       "    .dataframe tbody tr th:only-of-type {\n",
       "        vertical-align: middle;\n",
       "    }\n",
       "\n",
       "    .dataframe tbody tr th {\n",
       "        vertical-align: top;\n",
       "    }\n",
       "\n",
       "    .dataframe thead th {\n",
       "        text-align: right;\n",
       "    }\n",
       "</style>\n",
       "<table border=\"1\" class=\"dataframe\">\n",
       "  <thead>\n",
       "    <tr style=\"text-align: right;\">\n",
       "      <th></th>\n",
       "      <th>Datekey</th>\n",
       "      <th>CalendarYear</th>\n",
       "      <th>CalendarYearLabel</th>\n",
       "      <th>CalendarHalfYear</th>\n",
       "      <th>CalendarHalfYearLabel</th>\n",
       "      <th>CalendarQuarter</th>\n",
       "      <th>CalendarQuarterLabel</th>\n",
       "      <th>CalendarMonth</th>\n",
       "      <th>CalendarMonthLabel</th>\n",
       "      <th>CalendarWeek</th>\n",
       "      <th>CalendarWeekLabel</th>\n",
       "      <th>CalendarDayOfWeek</th>\n",
       "      <th>CalendarDayOfWeekLabel</th>\n",
       "      <th>FiscalYear</th>\n",
       "      <th>FiscalYearLabel</th>\n",
       "      <th>FiscalHalfYear</th>\n",
       "      <th>FiscalHalfYearLabel</th>\n",
       "      <th>FiscalQuarter</th>\n",
       "      <th>FiscalQuarterLabel</th>\n",
       "      <th>FiscalMonth</th>\n",
       "      <th>FiscalMonthLabel</th>\n",
       "      <th>IsWorkDay</th>\n",
       "      <th>IsHoliday</th>\n",
       "      <th>EuropeSeason</th>\n",
       "      <th>NorthAmericaSeason</th>\n",
       "      <th>AsiaSeason</th>\n",
       "    </tr>\n",
       "  </thead>\n",
       "  <tbody>\n",
       "    <tr>\n",
       "      <th>0</th>\n",
       "      <td>2005-01-01</td>\n",
       "      <td>2005</td>\n",
       "      <td>Year 2005</td>\n",
       "      <td>20051</td>\n",
       "      <td>H1</td>\n",
       "      <td>20051</td>\n",
       "      <td>Q1</td>\n",
       "      <td>200501</td>\n",
       "      <td>January</td>\n",
       "      <td>200501</td>\n",
       "      <td>Week 1</td>\n",
       "      <td>2005017</td>\n",
       "      <td>Saturday</td>\n",
       "      <td>2005</td>\n",
       "      <td>FiscalYear 2005</td>\n",
       "      <td>20051</td>\n",
       "      <td>H1</td>\n",
       "      <td>20051</td>\n",
       "      <td>Q1</td>\n",
       "      <td>200501</td>\n",
       "      <td>Month 1</td>\n",
       "      <td>WeekEnd</td>\n",
       "      <td>0</td>\n",
       "      <td>Holiday</td>\n",
       "      <td>Spring/Back to Business</td>\n",
       "      <td>Holiday</td>\n",
       "    </tr>\n",
       "    <tr>\n",
       "      <th>1</th>\n",
       "      <td>2005-01-02</td>\n",
       "      <td>2005</td>\n",
       "      <td>Year 2005</td>\n",
       "      <td>20051</td>\n",
       "      <td>H1</td>\n",
       "      <td>20051</td>\n",
       "      <td>Q1</td>\n",
       "      <td>200501</td>\n",
       "      <td>January</td>\n",
       "      <td>200502</td>\n",
       "      <td>Week 2</td>\n",
       "      <td>2005021</td>\n",
       "      <td>Sunday</td>\n",
       "      <td>2005</td>\n",
       "      <td>FiscalYear 2005</td>\n",
       "      <td>20051</td>\n",
       "      <td>H1</td>\n",
       "      <td>20051</td>\n",
       "      <td>Q1</td>\n",
       "      <td>200501</td>\n",
       "      <td>Month 1</td>\n",
       "      <td>WeekEnd</td>\n",
       "      <td>0</td>\n",
       "      <td>Holiday</td>\n",
       "      <td>Spring/Back to Business</td>\n",
       "      <td>Holiday</td>\n",
       "    </tr>\n",
       "    <tr>\n",
       "      <th>2</th>\n",
       "      <td>2005-01-03</td>\n",
       "      <td>2005</td>\n",
       "      <td>Year 2005</td>\n",
       "      <td>20051</td>\n",
       "      <td>H1</td>\n",
       "      <td>20051</td>\n",
       "      <td>Q1</td>\n",
       "      <td>200501</td>\n",
       "      <td>January</td>\n",
       "      <td>200502</td>\n",
       "      <td>Week 2</td>\n",
       "      <td>2005022</td>\n",
       "      <td>Monday</td>\n",
       "      <td>2005</td>\n",
       "      <td>FiscalYear 2005</td>\n",
       "      <td>20051</td>\n",
       "      <td>H1</td>\n",
       "      <td>20051</td>\n",
       "      <td>Q1</td>\n",
       "      <td>200501</td>\n",
       "      <td>Month 1</td>\n",
       "      <td>WorkDay</td>\n",
       "      <td>0</td>\n",
       "      <td>Holiday</td>\n",
       "      <td>Spring/Back to Business</td>\n",
       "      <td>Holiday</td>\n",
       "    </tr>\n",
       "    <tr>\n",
       "      <th>3</th>\n",
       "      <td>2005-01-04</td>\n",
       "      <td>2005</td>\n",
       "      <td>Year 2005</td>\n",
       "      <td>20051</td>\n",
       "      <td>H1</td>\n",
       "      <td>20051</td>\n",
       "      <td>Q1</td>\n",
       "      <td>200501</td>\n",
       "      <td>January</td>\n",
       "      <td>200502</td>\n",
       "      <td>Week 2</td>\n",
       "      <td>2005023</td>\n",
       "      <td>Tuesday</td>\n",
       "      <td>2005</td>\n",
       "      <td>FiscalYear 2005</td>\n",
       "      <td>20051</td>\n",
       "      <td>H1</td>\n",
       "      <td>20051</td>\n",
       "      <td>Q1</td>\n",
       "      <td>200501</td>\n",
       "      <td>Month 1</td>\n",
       "      <td>WorkDay</td>\n",
       "      <td>0</td>\n",
       "      <td>Holiday</td>\n",
       "      <td>Spring/Back to Business</td>\n",
       "      <td>Holiday</td>\n",
       "    </tr>\n",
       "    <tr>\n",
       "      <th>4</th>\n",
       "      <td>2005-01-05</td>\n",
       "      <td>2005</td>\n",
       "      <td>Year 2005</td>\n",
       "      <td>20051</td>\n",
       "      <td>H1</td>\n",
       "      <td>20051</td>\n",
       "      <td>Q1</td>\n",
       "      <td>200501</td>\n",
       "      <td>January</td>\n",
       "      <td>200502</td>\n",
       "      <td>Week 2</td>\n",
       "      <td>2005024</td>\n",
       "      <td>Wednesday</td>\n",
       "      <td>2005</td>\n",
       "      <td>FiscalYear 2005</td>\n",
       "      <td>20051</td>\n",
       "      <td>H1</td>\n",
       "      <td>20051</td>\n",
       "      <td>Q1</td>\n",
       "      <td>200501</td>\n",
       "      <td>Month 1</td>\n",
       "      <td>WorkDay</td>\n",
       "      <td>0</td>\n",
       "      <td>Holiday</td>\n",
       "      <td>Spring/Back to Business</td>\n",
       "      <td>Holiday</td>\n",
       "    </tr>\n",
       "  </tbody>\n",
       "</table>\n",
       "</div>"
      ],
      "text/plain": [
       "     Datekey  CalendarYear CalendarYearLabel  CalendarHalfYear  \\\n",
       "0 2005-01-01          2005         Year 2005             20051   \n",
       "1 2005-01-02          2005         Year 2005             20051   \n",
       "2 2005-01-03          2005         Year 2005             20051   \n",
       "3 2005-01-04          2005         Year 2005             20051   \n",
       "4 2005-01-05          2005         Year 2005             20051   \n",
       "\n",
       "  CalendarHalfYearLabel  CalendarQuarter CalendarQuarterLabel  CalendarMonth  \\\n",
       "0                    H1            20051                   Q1         200501   \n",
       "1                    H1            20051                   Q1         200501   \n",
       "2                    H1            20051                   Q1         200501   \n",
       "3                    H1            20051                   Q1         200501   \n",
       "4                    H1            20051                   Q1         200501   \n",
       "\n",
       "  CalendarMonthLabel  CalendarWeek CalendarWeekLabel  CalendarDayOfWeek  \\\n",
       "0            January        200501            Week 1            2005017   \n",
       "1            January        200502            Week 2            2005021   \n",
       "2            January        200502            Week 2            2005022   \n",
       "3            January        200502            Week 2            2005023   \n",
       "4            January        200502            Week 2            2005024   \n",
       "\n",
       "  CalendarDayOfWeekLabel  FiscalYear  FiscalYearLabel  FiscalHalfYear  \\\n",
       "0               Saturday        2005  FiscalYear 2005           20051   \n",
       "1                 Sunday        2005  FiscalYear 2005           20051   \n",
       "2                 Monday        2005  FiscalYear 2005           20051   \n",
       "3                Tuesday        2005  FiscalYear 2005           20051   \n",
       "4              Wednesday        2005  FiscalYear 2005           20051   \n",
       "\n",
       "  FiscalHalfYearLabel  FiscalQuarter FiscalQuarterLabel  FiscalMonth  \\\n",
       "0                  H1          20051                 Q1       200501   \n",
       "1                  H1          20051                 Q1       200501   \n",
       "2                  H1          20051                 Q1       200501   \n",
       "3                  H1          20051                 Q1       200501   \n",
       "4                  H1          20051                 Q1       200501   \n",
       "\n",
       "  FiscalMonthLabel IsWorkDay  IsHoliday EuropeSeason       NorthAmericaSeason  \\\n",
       "0          Month 1   WeekEnd          0      Holiday  Spring/Back to Business   \n",
       "1          Month 1   WeekEnd          0      Holiday  Spring/Back to Business   \n",
       "2          Month 1   WorkDay          0      Holiday  Spring/Back to Business   \n",
       "3          Month 1   WorkDay          0      Holiday  Spring/Back to Business   \n",
       "4          Month 1   WorkDay          0      Holiday  Spring/Back to Business   \n",
       "\n",
       "  AsiaSeason  \n",
       "0    Holiday  \n",
       "1    Holiday  \n",
       "2    Holiday  \n",
       "3    Holiday  \n",
       "4    Holiday  "
      ]
     },
     "execution_count": 3,
     "metadata": {},
     "output_type": "execute_result"
    }
   ],
   "source": [
    "dim_date.head()"
   ]
  },
  {
   "cell_type": "markdown",
   "id": "c3b11e61",
   "metadata": {},
   "source": [
    "## Handling missing value"
   ]
  },
  {
   "cell_type": "code",
   "execution_count": 4,
   "id": "0c9a14a5",
   "metadata": {},
   "outputs": [
    {
     "data": {
      "text/plain": [
       "Datekey                   0\n",
       "CalendarYear              0\n",
       "CalendarYearLabel         0\n",
       "CalendarHalfYear          0\n",
       "CalendarHalfYearLabel     0\n",
       "CalendarQuarter           0\n",
       "CalendarQuarterLabel      0\n",
       "CalendarMonth             0\n",
       "CalendarMonthLabel        0\n",
       "CalendarWeek              0\n",
       "CalendarWeekLabel         0\n",
       "CalendarDayOfWeek         0\n",
       "CalendarDayOfWeekLabel    0\n",
       "FiscalYear                0\n",
       "FiscalYearLabel           0\n",
       "FiscalHalfYear            0\n",
       "FiscalHalfYearLabel       0\n",
       "FiscalQuarter             0\n",
       "FiscalQuarterLabel        0\n",
       "FiscalMonth               0\n",
       "FiscalMonthLabel          0\n",
       "IsWorkDay                 0\n",
       "IsHoliday                 0\n",
       "EuropeSeason              0\n",
       "NorthAmericaSeason        0\n",
       "AsiaSeason                0\n",
       "dtype: int64"
      ]
     },
     "execution_count": 4,
     "metadata": {},
     "output_type": "execute_result"
    }
   ],
   "source": [
    "dim_date.isna().sum()"
   ]
  },
  {
   "cell_type": "code",
   "execution_count": 5,
   "id": "5c57154b",
   "metadata": {},
   "outputs": [
    {
     "data": {
      "text/plain": [
       "array(['Holiday', 'Spring/Business', 'None', 'Back to School'],\n",
       "      dtype=object)"
      ]
     },
     "execution_count": 5,
     "metadata": {},
     "output_type": "execute_result"
    }
   ],
   "source": [
    "dim_date['EuropeSeason'].unique()"
   ]
  },
  {
   "cell_type": "code",
   "execution_count": 6,
   "id": "767116f4",
   "metadata": {
    "scrolled": false
   },
   "outputs": [],
   "source": [
    "dim_date.loc[dim_date['EuropeSeason'] == 'None', 'EuropeSeason'] ='No Season'"
   ]
  },
  {
   "cell_type": "code",
   "execution_count": 7,
   "id": "6a04f58c",
   "metadata": {},
   "outputs": [
    {
     "data": {
      "text/plain": [
       "array(['Spring/Back to Business', 'None', 'Back to School', 'Holiday'],\n",
       "      dtype=object)"
      ]
     },
     "execution_count": 7,
     "metadata": {},
     "output_type": "execute_result"
    }
   ],
   "source": [
    "dim_date['NorthAmericaSeason'].unique()"
   ]
  },
  {
   "cell_type": "code",
   "execution_count": 8,
   "id": "19ce5e6b",
   "metadata": {},
   "outputs": [],
   "source": [
    "dim_date.loc[dim_date['NorthAmericaSeason'] == 'None', 'NorthAmericaSeason'] ='No Season'"
   ]
  },
  {
   "cell_type": "code",
   "execution_count": 9,
   "id": "ec706db9",
   "metadata": {},
   "outputs": [
    {
     "data": {
      "text/plain": [
       "array(['Holiday', 'Spring/Back to School', 'Tax Time/Summer', 'None'],\n",
       "      dtype=object)"
      ]
     },
     "execution_count": 9,
     "metadata": {},
     "output_type": "execute_result"
    }
   ],
   "source": [
    "dim_date['AsiaSeason'].unique()"
   ]
  },
  {
   "cell_type": "code",
   "execution_count": 10,
   "id": "12dafed9",
   "metadata": {},
   "outputs": [],
   "source": [
    "dim_date.loc[dim_date['AsiaSeason'] == 'None', 'AsiaSeason'] ='No Season'"
   ]
  },
  {
   "cell_type": "markdown",
   "id": "d3c60dd7",
   "metadata": {},
   "source": [
    "**All Nulls cleared.**"
   ]
  },
  {
   "cell_type": "markdown",
   "id": "e6bce813",
   "metadata": {},
   "source": [
    "## Datatype check"
   ]
  },
  {
   "cell_type": "code",
   "execution_count": 11,
   "id": "f6f1b11d",
   "metadata": {},
   "outputs": [
    {
     "data": {
      "text/plain": [
       "Datekey                   datetime64[ns]\n",
       "CalendarYear                       int64\n",
       "CalendarYearLabel                 object\n",
       "CalendarHalfYear                   int64\n",
       "CalendarHalfYearLabel             object\n",
       "CalendarQuarter                    int64\n",
       "CalendarQuarterLabel              object\n",
       "CalendarMonth                      int64\n",
       "CalendarMonthLabel                object\n",
       "CalendarWeek                       int64\n",
       "CalendarWeekLabel                 object\n",
       "CalendarDayOfWeek                  int64\n",
       "CalendarDayOfWeekLabel            object\n",
       "FiscalYear                         int64\n",
       "FiscalYearLabel                   object\n",
       "FiscalHalfYear                     int64\n",
       "FiscalHalfYearLabel               object\n",
       "FiscalQuarter                      int64\n",
       "FiscalQuarterLabel                object\n",
       "FiscalMonth                        int64\n",
       "FiscalMonthLabel                  object\n",
       "IsWorkDay                         object\n",
       "IsHoliday                          int64\n",
       "EuropeSeason                      object\n",
       "NorthAmericaSeason                object\n",
       "AsiaSeason                        object\n",
       "dtype: object"
      ]
     },
     "execution_count": 11,
     "metadata": {},
     "output_type": "execute_result"
    }
   ],
   "source": [
    "dim_date.dtypes"
   ]
  },
  {
   "cell_type": "code",
   "execution_count": 12,
   "id": "fc95edf2",
   "metadata": {},
   "outputs": [],
   "source": [
    "dim_date['Datekey'] = pd.to_datetime(dim_date['Datekey'])"
   ]
  },
  {
   "cell_type": "code",
   "execution_count": 13,
   "id": "54849c17",
   "metadata": {},
   "outputs": [
    {
     "data": {
      "text/plain": [
       "array([0], dtype=int64)"
      ]
     },
     "execution_count": 13,
     "metadata": {},
     "output_type": "execute_result"
    }
   ],
   "source": [
    "dim_date['IsHoliday'].unique()"
   ]
  },
  {
   "cell_type": "markdown",
   "id": "794e8a27",
   "metadata": {},
   "source": [
    "Issue: All values is 0 "
   ]
  },
  {
   "cell_type": "code",
   "execution_count": 14,
   "id": "ecc8f764",
   "metadata": {},
   "outputs": [
    {
     "data": {
      "text/plain": [
       "array(['WeekEnd', 'WorkDay'], dtype=object)"
      ]
     },
     "execution_count": 14,
     "metadata": {},
     "output_type": "execute_result"
    }
   ],
   "source": [
    "dim_date['IsWorkDay'].unique()"
   ]
  },
  {
   "cell_type": "code",
   "execution_count": 15,
   "id": "a7f1195a",
   "metadata": {},
   "outputs": [
    {
     "data": {
      "text/plain": [
       "IsWorkDay\n",
       "WeekEnd     731\n",
       "WorkDay    1825\n",
       "Name: IsWorkDay, dtype: int64"
      ]
     },
     "execution_count": 15,
     "metadata": {},
     "output_type": "execute_result"
    }
   ],
   "source": [
    "dim_date.groupby('IsWorkDay')['IsWorkDay'].count()"
   ]
  },
  {
   "cell_type": "code",
   "execution_count": 16,
   "id": "e9f5f1ab",
   "metadata": {},
   "outputs": [],
   "source": [
    "dim_date.loc[dim_date['IsWorkDay'] == 'WeekEnd', 'IsHoliday'] = 1"
   ]
  },
  {
   "cell_type": "code",
   "execution_count": 17,
   "id": "61d28ecf",
   "metadata": {},
   "outputs": [
    {
     "data": {
      "text/plain": [
       "IsHoliday\n",
       "0    1825\n",
       "1     731\n",
       "Name: IsHoliday, dtype: int64"
      ]
     },
     "execution_count": 17,
     "metadata": {},
     "output_type": "execute_result"
    }
   ],
   "source": [
    "dim_date.groupby('IsHoliday')['IsHoliday'].count()"
   ]
  },
  {
   "cell_type": "markdown",
   "id": "e71cc41a",
   "metadata": {},
   "source": [
    "## Standardization "
   ]
  },
  {
   "cell_type": "code",
   "execution_count": 18,
   "id": "223cdddd",
   "metadata": {},
   "outputs": [],
   "source": [
    "#rename `Datekey to DateKey\n",
    "dim_date.rename(columns ={'Datekey': 'DateKey'}, inplace =True) "
   ]
  },
  {
   "cell_type": "code",
   "execution_count": 19,
   "id": "391f8bb6",
   "metadata": {},
   "outputs": [],
   "source": [
    "# Retrieve month from datetime\n",
    "dim_date['MonthNumber'] =  dim_date['DateKey'].dt.month\n",
    "\n",
    "dim_date['CalendarDayOfWeekNumber'] = dim_date['DateKey'].dt.dayofweek"
   ]
  },
  {
   "cell_type": "code",
   "execution_count": 20,
   "id": "1dd5d82d",
   "metadata": {},
   "outputs": [],
   "source": [
    "dim_date = dim_date.drop(['FiscalHalfYear', 'FiscalMonth', 'CalendarQuarter', 'CalendarHalfYear', 'CalendarMonth', 'CalendarWeek', 'CalendarDayOfWeek', 'FiscalQuarter'], axis=1)"
   ]
  },
  {
   "cell_type": "code",
   "execution_count": 21,
   "id": "5b001eea",
   "metadata": {
    "scrolled": false
   },
   "outputs": [
    {
     "data": {
      "text/html": [
       "<div>\n",
       "<style scoped>\n",
       "    .dataframe tbody tr th:only-of-type {\n",
       "        vertical-align: middle;\n",
       "    }\n",
       "\n",
       "    .dataframe tbody tr th {\n",
       "        vertical-align: top;\n",
       "    }\n",
       "\n",
       "    .dataframe thead th {\n",
       "        text-align: right;\n",
       "    }\n",
       "</style>\n",
       "<table border=\"1\" class=\"dataframe\">\n",
       "  <thead>\n",
       "    <tr style=\"text-align: right;\">\n",
       "      <th></th>\n",
       "      <th>DateKey</th>\n",
       "      <th>CalendarYear</th>\n",
       "      <th>CalendarYearLabel</th>\n",
       "      <th>CalendarHalfYearLabel</th>\n",
       "      <th>CalendarQuarterLabel</th>\n",
       "      <th>CalendarMonthLabel</th>\n",
       "      <th>CalendarWeekLabel</th>\n",
       "      <th>CalendarDayOfWeekLabel</th>\n",
       "      <th>FiscalYear</th>\n",
       "      <th>FiscalYearLabel</th>\n",
       "      <th>FiscalHalfYearLabel</th>\n",
       "      <th>FiscalQuarterLabel</th>\n",
       "      <th>FiscalMonthLabel</th>\n",
       "      <th>IsWorkDay</th>\n",
       "      <th>IsHoliday</th>\n",
       "      <th>EuropeSeason</th>\n",
       "      <th>NorthAmericaSeason</th>\n",
       "      <th>AsiaSeason</th>\n",
       "      <th>MonthNumber</th>\n",
       "      <th>CalendarDayOfWeekNumber</th>\n",
       "    </tr>\n",
       "  </thead>\n",
       "  <tbody>\n",
       "    <tr>\n",
       "      <th>0</th>\n",
       "      <td>2005-01-01</td>\n",
       "      <td>2005</td>\n",
       "      <td>Year 2005</td>\n",
       "      <td>H1</td>\n",
       "      <td>Q1</td>\n",
       "      <td>January</td>\n",
       "      <td>Week 1</td>\n",
       "      <td>Saturday</td>\n",
       "      <td>2005</td>\n",
       "      <td>FiscalYear 2005</td>\n",
       "      <td>H1</td>\n",
       "      <td>Q1</td>\n",
       "      <td>Month 1</td>\n",
       "      <td>WeekEnd</td>\n",
       "      <td>1</td>\n",
       "      <td>Holiday</td>\n",
       "      <td>Spring/Back to Business</td>\n",
       "      <td>Holiday</td>\n",
       "      <td>1</td>\n",
       "      <td>5</td>\n",
       "    </tr>\n",
       "    <tr>\n",
       "      <th>1</th>\n",
       "      <td>2005-01-02</td>\n",
       "      <td>2005</td>\n",
       "      <td>Year 2005</td>\n",
       "      <td>H1</td>\n",
       "      <td>Q1</td>\n",
       "      <td>January</td>\n",
       "      <td>Week 2</td>\n",
       "      <td>Sunday</td>\n",
       "      <td>2005</td>\n",
       "      <td>FiscalYear 2005</td>\n",
       "      <td>H1</td>\n",
       "      <td>Q1</td>\n",
       "      <td>Month 1</td>\n",
       "      <td>WeekEnd</td>\n",
       "      <td>1</td>\n",
       "      <td>Holiday</td>\n",
       "      <td>Spring/Back to Business</td>\n",
       "      <td>Holiday</td>\n",
       "      <td>1</td>\n",
       "      <td>6</td>\n",
       "    </tr>\n",
       "    <tr>\n",
       "      <th>2</th>\n",
       "      <td>2005-01-03</td>\n",
       "      <td>2005</td>\n",
       "      <td>Year 2005</td>\n",
       "      <td>H1</td>\n",
       "      <td>Q1</td>\n",
       "      <td>January</td>\n",
       "      <td>Week 2</td>\n",
       "      <td>Monday</td>\n",
       "      <td>2005</td>\n",
       "      <td>FiscalYear 2005</td>\n",
       "      <td>H1</td>\n",
       "      <td>Q1</td>\n",
       "      <td>Month 1</td>\n",
       "      <td>WorkDay</td>\n",
       "      <td>0</td>\n",
       "      <td>Holiday</td>\n",
       "      <td>Spring/Back to Business</td>\n",
       "      <td>Holiday</td>\n",
       "      <td>1</td>\n",
       "      <td>0</td>\n",
       "    </tr>\n",
       "    <tr>\n",
       "      <th>3</th>\n",
       "      <td>2005-01-04</td>\n",
       "      <td>2005</td>\n",
       "      <td>Year 2005</td>\n",
       "      <td>H1</td>\n",
       "      <td>Q1</td>\n",
       "      <td>January</td>\n",
       "      <td>Week 2</td>\n",
       "      <td>Tuesday</td>\n",
       "      <td>2005</td>\n",
       "      <td>FiscalYear 2005</td>\n",
       "      <td>H1</td>\n",
       "      <td>Q1</td>\n",
       "      <td>Month 1</td>\n",
       "      <td>WorkDay</td>\n",
       "      <td>0</td>\n",
       "      <td>Holiday</td>\n",
       "      <td>Spring/Back to Business</td>\n",
       "      <td>Holiday</td>\n",
       "      <td>1</td>\n",
       "      <td>1</td>\n",
       "    </tr>\n",
       "    <tr>\n",
       "      <th>4</th>\n",
       "      <td>2005-01-05</td>\n",
       "      <td>2005</td>\n",
       "      <td>Year 2005</td>\n",
       "      <td>H1</td>\n",
       "      <td>Q1</td>\n",
       "      <td>January</td>\n",
       "      <td>Week 2</td>\n",
       "      <td>Wednesday</td>\n",
       "      <td>2005</td>\n",
       "      <td>FiscalYear 2005</td>\n",
       "      <td>H1</td>\n",
       "      <td>Q1</td>\n",
       "      <td>Month 1</td>\n",
       "      <td>WorkDay</td>\n",
       "      <td>0</td>\n",
       "      <td>Holiday</td>\n",
       "      <td>Spring/Back to Business</td>\n",
       "      <td>Holiday</td>\n",
       "      <td>1</td>\n",
       "      <td>2</td>\n",
       "    </tr>\n",
       "  </tbody>\n",
       "</table>\n",
       "</div>"
      ],
      "text/plain": [
       "     DateKey  CalendarYear CalendarYearLabel CalendarHalfYearLabel  \\\n",
       "0 2005-01-01          2005         Year 2005                    H1   \n",
       "1 2005-01-02          2005         Year 2005                    H1   \n",
       "2 2005-01-03          2005         Year 2005                    H1   \n",
       "3 2005-01-04          2005         Year 2005                    H1   \n",
       "4 2005-01-05          2005         Year 2005                    H1   \n",
       "\n",
       "  CalendarQuarterLabel CalendarMonthLabel CalendarWeekLabel  \\\n",
       "0                   Q1            January            Week 1   \n",
       "1                   Q1            January            Week 2   \n",
       "2                   Q1            January            Week 2   \n",
       "3                   Q1            January            Week 2   \n",
       "4                   Q1            January            Week 2   \n",
       "\n",
       "  CalendarDayOfWeekLabel  FiscalYear  FiscalYearLabel FiscalHalfYearLabel  \\\n",
       "0               Saturday        2005  FiscalYear 2005                  H1   \n",
       "1                 Sunday        2005  FiscalYear 2005                  H1   \n",
       "2                 Monday        2005  FiscalYear 2005                  H1   \n",
       "3                Tuesday        2005  FiscalYear 2005                  H1   \n",
       "4              Wednesday        2005  FiscalYear 2005                  H1   \n",
       "\n",
       "  FiscalQuarterLabel FiscalMonthLabel IsWorkDay  IsHoliday EuropeSeason  \\\n",
       "0                 Q1          Month 1   WeekEnd          1      Holiday   \n",
       "1                 Q1          Month 1   WeekEnd          1      Holiday   \n",
       "2                 Q1          Month 1   WorkDay          0      Holiday   \n",
       "3                 Q1          Month 1   WorkDay          0      Holiday   \n",
       "4                 Q1          Month 1   WorkDay          0      Holiday   \n",
       "\n",
       "        NorthAmericaSeason AsiaSeason  MonthNumber  CalendarDayOfWeekNumber  \n",
       "0  Spring/Back to Business    Holiday            1                        5  \n",
       "1  Spring/Back to Business    Holiday            1                        6  \n",
       "2  Spring/Back to Business    Holiday            1                        0  \n",
       "3  Spring/Back to Business    Holiday            1                        1  \n",
       "4  Spring/Back to Business    Holiday            1                        2  "
      ]
     },
     "execution_count": 21,
     "metadata": {},
     "output_type": "execute_result"
    }
   ],
   "source": [
    "dim_date.head()"
   ]
  },
  {
   "cell_type": "code",
   "execution_count": 22,
   "id": "5f99df61",
   "metadata": {},
   "outputs": [
    {
     "data": {
      "text/plain": [
       "DateKey                    datetime64[ns]\n",
       "CalendarYear                        int64\n",
       "CalendarYearLabel                  object\n",
       "CalendarHalfYearLabel              object\n",
       "CalendarQuarterLabel               object\n",
       "CalendarMonthLabel                 object\n",
       "CalendarWeekLabel                  object\n",
       "CalendarDayOfWeekLabel             object\n",
       "FiscalYear                          int64\n",
       "FiscalYearLabel                    object\n",
       "FiscalHalfYearLabel                object\n",
       "FiscalQuarterLabel                 object\n",
       "FiscalMonthLabel                   object\n",
       "IsWorkDay                          object\n",
       "IsHoliday                           int64\n",
       "EuropeSeason                       object\n",
       "NorthAmericaSeason                 object\n",
       "AsiaSeason                         object\n",
       "MonthNumber                         int32\n",
       "CalendarDayOfWeekNumber             int32\n",
       "dtype: object"
      ]
     },
     "execution_count": 22,
     "metadata": {},
     "output_type": "execute_result"
    }
   ],
   "source": [
    "dim_date.dtypes"
   ]
  },
  {
   "cell_type": "code",
   "execution_count": 23,
   "id": "654dcfe6",
   "metadata": {},
   "outputs": [
    {
     "data": {
      "text/plain": [
       "60"
      ]
     },
     "execution_count": 23,
     "metadata": {},
     "output_type": "execute_result"
    }
   ],
   "source": [
    "engine = create_engine(f'mssql+pyodbc://@{server}/{database}?driver=ODBC+Driver+17+for+SQL+Server&trusted_connection=yes')\n",
    "\n",
    "dim_date.to_sql('DimDate_temp', engine, if_exists='replace', index=False)"
   ]
  },
  {
   "cell_type": "code",
   "execution_count": 25,
   "id": "19f33064",
   "metadata": {},
   "outputs": [
    {
     "name": "stdout",
     "output_type": "stream",
     "text": [
      "Error: ('23000', '[23000] [Microsoft][ODBC Driver 17 for SQL Server][SQL Server]The DELETE statement conflicted with the REFERENCE constraint \"FK_FactExchangeRate_DimDate\". The conflict occurred in database \"ContosoRetailDW\", table \"dbo.FactExchangeRate\", column \\'DateKey\\'. (547) (SQLExecDirectW); [23000] [Microsoft][ODBC Driver 17 for SQL Server][SQL Server]The statement has been terminated. (3621)')\n"
     ]
    }
   ],
   "source": []
  },
  {
   "cell_type": "code",
   "execution_count": null,
   "id": "0051362a",
   "metadata": {},
   "outputs": [],
   "source": []
  }
 ],
 "metadata": {
  "kernelspec": {
   "display_name": "Python 3",
   "language": "python",
   "name": "python3"
  },
  "language_info": {
   "codemirror_mode": {
    "name": "ipython",
    "version": 3
   },
   "file_extension": ".py",
   "mimetype": "text/x-python",
   "name": "python",
   "nbconvert_exporter": "python",
   "pygments_lexer": "ipython3",
   "version": "3.8.8"
  }
 },
 "nbformat": 4,
 "nbformat_minor": 5
}
